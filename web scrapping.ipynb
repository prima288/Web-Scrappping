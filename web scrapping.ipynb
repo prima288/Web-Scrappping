{
 "cells": [
  {
   "cell_type": "code",
   "execution_count": 1,
   "id": "58d343ea",
   "metadata": {},
   "outputs": [
    {
     "name": "stdout",
     "output_type": "stream",
     "text": [
      "Data telah disimpan dengan nama 'V3922025_Kembang Prima Rossari_Scraping Judul.csv'\n"
     ]
    }
   ],
   "source": [
    "import requests\n",
    "from bs4 import BeautifulSoup as bs\n",
    "import csv\n",
    "\n",
    "URL = \"https://proxyway.com/reviews\"\n",
    "\n",
    "# Menyiapkan file CSV\n",
    "csv_file = open('V3922025_Kembang Prima Rossari_Scraping Judul.csv', 'w', newline='', encoding='utf-8')\n",
    "csv_writer = csv.writer(csv_file)\n",
    "csv_writer.writerow(['Page Number', 'Title Number', 'Title'])\n",
    "\n",
    "for page in range(1, 4):  \n",
    "    page_url = URL + '/page/' + str(page)\n",
    "    req = requests.get(page_url)\n",
    "    soup = bs(req.text, 'html.parser')\n",
    "    titles = soup.find_all('h3', attrs={'class': 'archive-list__title'})\n",
    "\n",
    "    for i, title in enumerate(titles):\n",
    "        title_text = title.get_text(strip=True)\n",
    "        csv_writer.writerow([f'Page {page}', f'Title {i+1}', title_text])\n",
    "\n",
    "# Menutup file CSV\n",
    "csv_file.close()\n",
    "\n",
    "print(\"Data telah disimpan dengan nama 'V3922025_Kembang Prima Rossari_Scraping Judul.csv'\")"
   ]
  },
  {
   "cell_type": "code",
   "execution_count": null,
   "id": "1526ea37",
   "metadata": {},
   "outputs": [],
   "source": []
  }
 ],
 "metadata": {
  "kernelspec": {
   "display_name": "Python 3 (ipykernel)",
   "language": "python",
   "name": "python3"
  },
  "language_info": {
   "codemirror_mode": {
    "name": "ipython",
    "version": 3
   },
   "file_extension": ".py",
   "mimetype": "text/x-python",
   "name": "python",
   "nbconvert_exporter": "python",
   "pygments_lexer": "ipython3",
   "version": "3.9.13"
  }
 },
 "nbformat": 4,
 "nbformat_minor": 5
}
